{
 "cells": [
  {
   "cell_type": "code",
   "execution_count": 2,
   "id": "e49f005d",
   "metadata": {},
   "outputs": [
    {
     "name": "stdout",
     "output_type": "stream",
     "text": [
      "7\n"
     ]
    }
   ],
   "source": [
    "x = 4\n",
    "y = 3\n",
    "z = x + y\n",
    "print(z)\n"
   ]
  },
  {
   "cell_type": "code",
   "execution_count": 14,
   "id": "d7041170",
   "metadata": {},
   "outputs": [
    {
     "data": {
      "text/plain": [
       "str"
      ]
     },
     "execution_count": 14,
     "metadata": {},
     "output_type": "execute_result"
    }
   ],
   "source": [
    "x = 5.0\n",
    "\n",
    "y = 10\n",
    "\n",
    "z = x + y\n",
    "\n",
    "z = str(z)\n",
    "\n",
    "type('z')\n",
    "\n"
   ]
  },
  {
   "cell_type": "code",
   "execution_count": 3,
   "id": "881ed1ec",
   "metadata": {},
   "outputs": [
    {
     "name": "stdout",
     "output_type": "stream",
     "text": [
      "4\n"
     ]
    }
   ],
   "source": [
    "i = 1\n",
    "j = 3\n",
    "print(i+j)\n"
   ]
  },
  {
   "cell_type": "code",
   "execution_count": 36,
   "id": "2eac2537",
   "metadata": {},
   "outputs": [
    {
     "data": {
      "text/plain": [
       "110"
      ]
     },
     "execution_count": 36,
     "metadata": {},
     "output_type": "execute_result"
    }
   ],
   "source": [
    "radius = 2\n",
    "pi = 3.14\n",
    "\n",
    "area = pi * radius ** 2\n",
    "\n",
    "area\n",
    "\n",
    "i = 10\n",
    "j = 11\n",
    "\n",
    "k = i * j\n",
    "\n",
    "k"
   ]
  },
  {
   "cell_type": "code",
   "execution_count": 39,
   "id": "12c01597",
   "metadata": {},
   "outputs": [
    {
     "data": {
      "text/plain": [
       "'110 a bunch of other words Harry'"
      ]
     },
     "execution_count": 39,
     "metadata": {},
     "output_type": "execute_result"
    }
   ],
   "source": [
    "phrase_1 = \"Hi I am\"\n",
    "\n",
    "phrase_2 = \"Harry\"\n",
    "\n",
    "p3 = f\"{i * j} a bunch of other words {phrase_2}\"\n",
    "\n",
    "p3\n",
    "\n"
   ]
  },
  {
   "cell_type": "code",
   "execution_count": 52,
   "id": "dd78b6ee",
   "metadata": {},
   "outputs": [
    {
     "data": {
      "text/plain": [
       "'a903'"
      ]
     },
     "execution_count": 52,
     "metadata": {},
     "output_type": "execute_result"
    }
   ],
   "source": [
    "filename = \"ssada903_list_1_csv\"\n",
    "\n",
    "fn = filename[4:8]\n",
    "\n",
    "fn"
   ]
  },
  {
   "cell_type": "code",
   "execution_count": 61,
   "id": "cf3b8015",
   "metadata": {},
   "outputs": [
    {
     "name": "stdout",
     "output_type": "stream",
     "text": [
      "dog\n",
      "cat \n",
      "racoon\n"
     ]
    }
   ],
   "source": [
    "slice_this_phrase = \"dog cat racoon\"\n",
    "\n",
    "a = slice_this_phrase[0:3]\n",
    "\n",
    "b = slice_this_phrase[4:8]\n",
    "\n",
    "c = slice_this_phrase[8:15]\n",
    "\n",
    "print(a)\n",
    "print(b)\n",
    "print(c)\n"
   ]
  }
 ],
 "metadata": {
  "kernelspec": {
   "display_name": "Python 3",
   "language": "python",
   "name": "python3"
  },
  "language_info": {
   "codemirror_mode": {
    "name": "ipython",
    "version": 3
   },
   "file_extension": ".py",
   "mimetype": "text/x-python",
   "name": "python",
   "nbconvert_exporter": "python",
   "pygments_lexer": "ipython3",
   "version": "3.12.1"
  }
 },
 "nbformat": 4,
 "nbformat_minor": 5
}
