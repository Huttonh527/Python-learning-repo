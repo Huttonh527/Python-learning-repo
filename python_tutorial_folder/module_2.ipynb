{
 "cells": [
  {
   "cell_type": "code",
   "execution_count": 2,
   "id": "647357b4",
   "metadata": {},
   "outputs": [
    {
     "data": {
      "text/plain": [
       "str"
      ]
     },
     "execution_count": 2,
     "metadata": {},
     "output_type": "execute_result"
    }
   ],
   "source": [
    "var_1 = 10\n",
    "var_2 = 10.10\n",
    "var_3 = \"10\"\n",
    "\n",
    "outcome = var_1 + var_2\n",
    "\n",
    "type(var_3)"
   ]
  },
  {
   "cell_type": "code",
   "execution_count": 3,
   "id": "c2b0a6ea",
   "metadata": {},
   "outputs": [
    {
     "data": {
      "text/plain": [
       "list"
      ]
     },
     "execution_count": 3,
     "metadata": {},
     "output_type": "execute_result"
    }
   ],
   "source": [
    "list_1 = [] \n",
    "\n",
    "type(list_1)"
   ]
  },
  {
   "cell_type": "code",
   "execution_count": 9,
   "id": "bd99b8d9",
   "metadata": {},
   "outputs": [
    {
     "data": {
      "text/plain": [
       "['red', 'blue', 'green']"
      ]
     },
     "execution_count": 9,
     "metadata": {},
     "output_type": "execute_result"
    }
   ],
   "source": [
    "cols = [\"red\", \"blue\", \"green\"]\n",
    "\n",
    "cols_2 = [\"purple\", \"orange\", cols] \n",
    "\n",
    "cols_2[2]   \n"
   ]
  },
  {
   "cell_type": "code",
   "execution_count": 17,
   "id": "fe863332",
   "metadata": {},
   "outputs": [
    {
     "data": {
      "text/plain": [
       "['tea', 'coffee', 'milk']"
      ]
     },
     "execution_count": 17,
     "metadata": {},
     "output_type": "execute_result"
    }
   ],
   "source": [
    "var_1 = 20\n",
    "var_2 = 20.1\n",
    "var_3 = \"blue\"\n",
    "\n",
    "list_1 = [\"tea\", \"coffee\", \"milk\"]\n",
    "\n",
    "list_2 = [var_1, var_2, var_3, list_1]\n",
    "\n",
    "list_2\n",
    "\n",
    "list_2[-1]\n",
    "       \n",
    "\n"
   ]
  },
  {
   "cell_type": "code",
   "execution_count": 22,
   "id": "f0fd2b38",
   "metadata": {},
   "outputs": [
    {
     "data": {
      "text/plain": [
       "['red', 'green', 'turquoise', 'beige', 'teal', 'maroon', 'taupe']"
      ]
     },
     "execution_count": 22,
     "metadata": {},
     "output_type": "execute_result"
    }
   ],
   "source": [
    "colours_1 = [\"red\", \"blue\", \"green\", \"turquoise\", \"beige\"]\n",
    "colours_2 = [ \"teal\", \"maroon\"]\n",
    "colour_1 = \"taupe\"\n",
    "\n",
    "colours_1.extend(colours_2)\n",
    "\n",
    "colours_1.append(colour_1)\n",
    "\n",
    "colours_1.remove(\"blue\")\n",
    "\n",
    "colours_1\n"
   ]
  },
  {
   "cell_type": "code",
   "execution_count": 27,
   "id": "80fc03f0",
   "metadata": {},
   "outputs": [
    {
     "data": {
      "text/plain": [
       "['poppadom', 'mango chutney', 'mint yoghurt', 'spicy dip', 'onion salad']"
      ]
     },
     "execution_count": 27,
     "metadata": {},
     "output_type": "execute_result"
    }
   ],
   "source": [
    "starter = [\"poppadom\", \"mango chutney\", \"lime pickle\"]\n",
    "\n",
    "extra_1 = \"mint yoghurt\"\n",
    "\n",
    "extra_2 = [\"spicy dip\", \"onion salad\"]\n",
    "\n",
    "starter.append(extra_1)\n",
    "\n",
    "starter.extend(extra_2)\n",
    "\n",
    "starter.remove(\"lime pickle\")\n",
    "\n",
    "starter\n",
    "               \n"
   ]
  },
  {
   "cell_type": "code",
   "execution_count": 34,
   "id": "a3131830",
   "metadata": {},
   "outputs": [
    {
     "data": {
      "text/plain": [
       "[1, 4, 5, 6, 9, 11, 13, 20, 26, 28]"
      ]
     },
     "execution_count": 34,
     "metadata": {},
     "output_type": "execute_result"
    }
   ],
   "source": [
    "nums = [1, 5, 4, 9, 6, 13, 11, 28, 20, 26]\n",
    "\n",
    "# nums.sort(reverse=True)\n",
    "\n",
    "sorted(nums)"
   ]
  },
  {
   "cell_type": "code",
   "execution_count": null,
   "id": "595e4e0b",
   "metadata": {},
   "outputs": [
    {
     "data": {
      "text/plain": [
       "['blue', 'yellow']"
      ]
     },
     "execution_count": 35,
     "metadata": {},
     "output_type": "execute_result"
    }
   ],
   "source": [
    "fav_colours = {\"will\":\"black\", \n",
    "               \"Clare\":\"yellow\",\n",
    "               \"Marcel\":{\"monday\":[\"blue\", \"yellow\"], \"RoW\":\"Grey\"}}\n",
    "\n",
    "                         \n",
    "\n",
    "fav_colours[\"Marcel\"]\n"
   ]
  },
  {
   "cell_type": "code",
   "execution_count": null,
   "id": "7ed114a9",
   "metadata": {},
   "outputs": [
    {
     "data": {
      "text/plain": [
       "<function dict.keys>"
      ]
     },
     "execution_count": 36,
     "metadata": {},
     "output_type": "execute_result"
    }
   ],
   "source": [
    "restaurants = {\"nandos\":\"chicken\",\n",
    "               \"Sourced\":[\"pizza\", \"Bread\"],\n",
    "               \"chutneys\":{monday}\"curry\"}\n",
    "\n"
   ]
  },
  {
   "cell_type": "code",
   "execution_count": 39,
   "id": "667d7f7e",
   "metadata": {},
   "outputs": [
    {
     "ename": "SyntaxError",
     "evalue": "invalid syntax. Perhaps you forgot a comma? (4025607904.py, line 2)",
     "output_type": "error",
     "traceback": [
      "  \u001b[36mCell\u001b[39m\u001b[36m \u001b[39m\u001b[32mIn[39]\u001b[39m\u001b[32m, line 2\u001b[39m\n\u001b[31m    \u001b[39m\u001b[31m\"the chippy\":[\"fish\", \"chips\"]\u001b[39m\n                 ^\n\u001b[31mSyntaxError\u001b[39m\u001b[31m:\u001b[39m invalid syntax. Perhaps you forgot a comma?\n"
     ]
    }
   ],
   "source": [
    "foods = {\"pub\":\"sunday roast\",\n",
    "        \"the chippy\":[\"fish\", \"chips\"]\n",
    "        \"the fine dining restaurant\":{\"monday\":[\"chicken\", \"beef\"], \"RoW\":\"Duck\"}}\n",
    "\n",
    "\n",
    "print(foods[\"pub\"])\n"
   ]
  },
  {
   "cell_type": "code",
   "execution_count": null,
   "id": "383dfc61",
   "metadata": {},
   "outputs": [],
   "source": [
    "sex_dict = {1:\"M\"}"
   ]
  }
 ],
 "metadata": {
  "kernelspec": {
   "display_name": "Python 3",
   "language": "python",
   "name": "python3"
  },
  "language_info": {
   "codemirror_mode": {
    "name": "ipython",
    "version": 3
   },
   "file_extension": ".py",
   "mimetype": "text/x-python",
   "name": "python",
   "nbconvert_exporter": "python",
   "pygments_lexer": "ipython3",
   "version": "3.12.1"
  }
 },
 "nbformat": 4,
 "nbformat_minor": 5
}
